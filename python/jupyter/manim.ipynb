{
 "cells": [
  {
   "cell_type": "code",
   "execution_count": null,
   "id": "8e15bbab-00e5-4992-aa6c-89f5727f0bf0",
   "metadata": {},
   "outputs": [],
   "source": [
    "import manim\n",
    "\n",
    "from manim import Text, ThreeDAxes, ThreeDScene\n",
    "from manim.constants import DEGREES, UL"
   ]
  },
  {
   "cell_type": "code",
   "execution_count": null,
   "id": "78715434-1ed6-4822-8f48-7c41730c6cad",
   "metadata": {},
   "outputs": [],
   "source": [
    "%%manim -v WARNING FixedInFrameMObjectTest\n",
    "\n",
    "class FixedInFrameMObjectTest(ThreeDScene):\n",
    "    def construct(self):\n",
    "        axes = ThreeDAxes()\n",
    "        self.set_camera_orientation(phi=75 * DEGREES, theta=-45 * DEGREES)\n",
    "        text3d = Text(\"This is a 3D text\")\n",
    "        self.add_fixed_in_frame_mobjects(text3d)\n",
    "        text3d.to_corner(UL)\n",
    "        self.add(axes)\n",
    "        self.wait()"
   ]
  }
 ],
 "metadata": {
  "kernelspec": {
   "display_name": "Python 3 (ipykernel)",
   "language": "python",
   "name": "python3"
  },
  "language_info": {
   "codemirror_mode": {
    "name": "ipython",
    "version": 3
   },
   "file_extension": ".py",
   "mimetype": "text/x-python",
   "name": "python",
   "nbconvert_exporter": "python",
   "pygments_lexer": "ipython3",
   "version": "3.8.2"
  }
 },
 "nbformat": 4,
 "nbformat_minor": 5
}
