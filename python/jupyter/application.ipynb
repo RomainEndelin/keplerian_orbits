{
 "cells": [
  {
   "cell_type": "code",
   "execution_count": null,
   "id": "1d8e314d-3961-4274-9a3b-bf52f78f17bd",
   "metadata": {},
   "outputs": [],
   "source": [
    "import os, sys\n",
    "module_path = os.path.abspath(os.path.join('..'))\n",
    "if module_path not in sys.path:\n",
    "    sys.path.append(module_path)\n",
    "\n",
    "from engine.fixtures.system import make_system\n",
    "from engine.plot import plot_orbits"
   ]
  },
  {
   "cell_type": "code",
   "execution_count": null,
   "id": "b5483956-f6ba-4431-a3c2-e362a46b2b6c",
   "metadata": {},
   "outputs": [],
   "source": [
    "system = make_system()\n",
    "\n",
    "t_val = 5\n",
    "\n",
    "fig = plot_orbits(system, t_val)\n",
    "fig.show()"
   ]
  }
 ],
 "metadata": {
  "kernelspec": {
   "display_name": "Python 3",
   "language": "python",
   "name": "python3"
  },
  "language_info": {
   "codemirror_mode": {
    "name": "ipython",
    "version": 3
   },
   "file_extension": ".py",
   "mimetype": "text/x-python",
   "name": "python",
   "nbconvert_exporter": "python",
   "pygments_lexer": "ipython3",
   "version": "3.8.2"
  }
 },
 "nbformat": 4,
 "nbformat_minor": 5
}
