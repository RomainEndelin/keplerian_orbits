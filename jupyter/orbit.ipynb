{
 "cells": [
  {
   "cell_type": "code",
   "execution_count": 1,
   "metadata": {},
   "outputs": [],
   "source": [
    "from sympy import symbols"
   ]
  },
  {
   "cell_type": "code",
   "execution_count": 27,
   "metadata": {},
   "outputs": [],
   "source": [
    "(eccentricity, semimajor_axis, true_anomaly,) = symbols(\"e a ν\", real=True)\n",
    "(inclination, longitude_ascending_node, argument_of_periapsis,) = symbols(\"i Ω ω\")"
   ]
  },
  {
   "cell_type": "code",
   "execution_count": 41,
   "metadata": {},
   "outputs": [],
   "source": [
    "from sympy.physics.vector import ReferenceFrame\n",
    "\n",
    "E = ReferenceFrame(\"E\")  # Equatorial Frame\n",
    "O = ReferenceFrame(\"O\")  # Orbital Frame\n",
    "O.orient_body_fixed(\n",
    "    E, [longitude_ascending_node, inclination, argument_of_periapsis], \"313\"\n",
    ")"
   ]
  },
  {
   "cell_type": "code",
   "execution_count": 5,
   "metadata": {},
   "outputs": [],
   "source": [
    "# from sympy import Ellipse\n",
    "# from sympy import Point as Point2D\n",
    "\n",
    "# orbit = Ellipse(Point2D(0, 0), hradius=semimajor_axis, eccentricity=eccentricity)\n",
    "# orbit.equation(x, y).subs({x: O.x, y: O.y})"
   ]
  },
  {
   "cell_type": "code",
   "execution_count": 25,
   "metadata": {},
   "outputs": [
    {
     "data": {
      "text/latex": [
       "$\\displaystyle \\frac{a \\left(e + \\cos{\\left(ν \\right)}\\right)}{e \\cos{\\left(ν \\right)} + 1}\\mathbf{\\hat{o}_x} + \\frac{a \\sqrt{1 - e^{2}} \\sin{\\left(ν \\right)}}{e \\cos{\\left(ν \\right)} + 1}\\mathbf{\\hat{o}_y}$"
      ],
      "text/plain": [
       "a*(e + cos(ν))/(e*cos(ν) + 1)*O.x + a*sqrt(1 - e**2)*sin(ν)/(e*cos(ν) + 1)*O.y"
      ]
     },
     "execution_count": 25,
     "metadata": {},
     "output_type": "execute_result"
    }
   ],
   "source": [
    "from sympy import sqrt\n",
    "from sympy.physics.vector import Point\n",
    "\n",
    "primary_body = Point(\"A\")\n",
    "secondary_body = primary_body.locatenew(\n",
    "    \"B\",\n",
    "    O.x\n",
    "    * semimajor_axis\n",
    "    * (eccentricity + cos(true_anomaly))\n",
    "    / (1 + eccentricity * cos(true_anomaly))\n",
    "    + O.y\n",
    "    * semimajor_axis\n",
    "    * (sqrt(1 - eccentricity ** 2) * sin(true_anomaly))\n",
    "    / (1 + eccentricity * cos(true_anomaly)),\n",
    ")\n",
    "secondary_body.pos_from(primary_body)"
   ]
  },
  {
   "cell_type": "code",
   "execution_count": 40,
   "metadata": {},
   "outputs": [
    {
     "data": {
      "text/latex": [
       "$\\displaystyle \\left[\\begin{matrix}\\frac{a \\sqrt{1 - e^{2}} \\left(- \\sin{\\left(Ω \\right)} \\cos{\\left(i \\right)} \\cos{\\left(ω \\right)} - \\sin{\\left(ω \\right)} \\cos{\\left(Ω \\right)}\\right) \\sin{\\left(ν \\right)}}{e \\cos{\\left(ν \\right)} + 1} + \\frac{a \\left(e + \\cos{\\left(ν \\right)}\\right) \\left(- \\sin{\\left(Ω \\right)} \\sin{\\left(ω \\right)} \\cos{\\left(i \\right)} + \\cos{\\left(Ω \\right)} \\cos{\\left(ω \\right)}\\right)}{e \\cos{\\left(ν \\right)} + 1}\\\\\\frac{a \\sqrt{1 - e^{2}} \\left(- \\sin{\\left(Ω \\right)} \\sin{\\left(ω \\right)} + \\cos{\\left(i \\right)} \\cos{\\left(Ω \\right)} \\cos{\\left(ω \\right)}\\right) \\sin{\\left(ν \\right)}}{e \\cos{\\left(ν \\right)} + 1} + \\frac{a \\left(e + \\cos{\\left(ν \\right)}\\right) \\left(\\sin{\\left(Ω \\right)} \\cos{\\left(ω \\right)} + \\sin{\\left(ω \\right)} \\cos{\\left(i \\right)} \\cos{\\left(Ω \\right)}\\right)}{e \\cos{\\left(ν \\right)} + 1}\\\\\\frac{a \\sqrt{1 - e^{2}} \\sin{\\left(i \\right)} \\sin{\\left(ν \\right)} \\cos{\\left(ω \\right)}}{e \\cos{\\left(ν \\right)} + 1} + \\frac{a \\left(e + \\cos{\\left(ν \\right)}\\right) \\sin{\\left(i \\right)} \\sin{\\left(ω \\right)}}{e \\cos{\\left(ν \\right)} + 1}\\end{matrix}\\right]$"
      ],
      "text/plain": [
       "Matrix([\n",
       "[a*sqrt(1 - e**2)*(-sin(Ω)*cos(i)*cos(ω) - sin(ω)*cos(Ω))*sin(ν)/(e*cos(ν) + 1) + a*(e + cos(ν))*(-sin(Ω)*sin(ω)*cos(i) + cos(Ω)*cos(ω))/(e*cos(ν) + 1)],\n",
       "[ a*sqrt(1 - e**2)*(-sin(Ω)*sin(ω) + cos(i)*cos(Ω)*cos(ω))*sin(ν)/(e*cos(ν) + 1) + a*(e + cos(ν))*(sin(Ω)*cos(ω) + sin(ω)*cos(i)*cos(Ω))/(e*cos(ν) + 1)],\n",
       "[                                                    a*sqrt(1 - e**2)*sin(i)*sin(ν)*cos(ω)/(e*cos(ν) + 1) + a*(e + cos(ν))*sin(i)*sin(ω)/(e*cos(ν) + 1)]])"
      ]
     },
     "execution_count": 40,
     "metadata": {},
     "output_type": "execute_result"
    }
   ],
   "source": [
    "secondary_body.pos_from(primary_body).express(E).to_matrix(E)"
   ]
  }
 ],
 "metadata": {
  "kernelspec": {
   "display_name": "Python 3",
   "language": "python",
   "name": "python3"
  },
  "language_info": {
   "codemirror_mode": {
    "name": "ipython",
    "version": 3
   },
   "file_extension": ".py",
   "mimetype": "text/x-python",
   "name": "python",
   "nbconvert_exporter": "python",
   "pygments_lexer": "ipython3",
   "version": "3.8.5"
  }
 },
 "nbformat": 4,
 "nbformat_minor": 4
}
